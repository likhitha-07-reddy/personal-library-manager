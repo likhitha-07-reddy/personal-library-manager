{
 "cells": [
  {
   "cell_type": "code",
   "execution_count": 2,
   "id": "0012668b-8141-43f8-ad04-5527a2de3dd0",
   "metadata": {},
   "outputs": [],
   "source": [
    "import os\n",
    "\n",
    "# Function to Add Books\n",
    "def add_book(title, author, genre, year, status=\"unread\"):\n",
    "    book = {\n",
    "        \"title\": title.strip(),\n",
    "        \"author\": author.strip(),\n",
    "        \"genre\": genre.strip(),\n",
    "        \"year\": int(year),\n",
    "        \"status\": status.lower()\n",
    "    }\n",
    "    library.append(book)\n",
    "    print(f\"Book '{title}' added.\")\n",
    "\n",
    "#  Function to List Books\n",
    "def list_books(sorted_by_year=False):\n",
    "    if not library:\n",
    "        print(\"Library is empty.\")\n",
    "        return\n",
    "    books = sorted(library, key=lambda x: x['year']) if sorted_by_year else library\n",
    "    for idx, book in enumerate(books, start=1):\n",
    "        print(f\"{idx}. {book['title']} by {book['author']} [{book['genre']}, {book['year']}] - {book['status'].capitalize()}\")\n",
    "\n",
    "#  Function Search by Author\n",
    "def search_by_author(author_name):\n",
    "    return [book for book in library if author_name.lower() in book['author'].lower()]\n",
    "\n",
    "#  Function to Delete Book\n",
    "def delete_book(title):\n",
    "    global library\n",
    "    library = list(filter(lambda book: book['title'].lower() != title.lower(), library))\n",
    "    print(f\"Book titled '{title}' has been removed if it existed.\")"
   ]
  },
  {
   "cell_type": "code",
   "execution_count": 30,
   "id": "5f2ee262-fa6d-4b99-b635-0c48e5ef2f56",
   "metadata": {},
   "outputs": [],
   "source": [
    "def show_reading_summary():\n",
    " if not linrary:\n",
    "    print(\"no books in lib rary\")\n",
    "    return \n",
    "    read = len(list(filter(lambda x:x['status'] == 'read',library)))\n",
    "    unread = len(library) -read\n",
    "    print(f\"read:{read}books ({(read/len(library))*100:.2f}%)\")\n",
    "    print(f\"unread: {unread} books ({(unread/len(library))*100:.2f}%)\")"
   ]
  },
  {
   "cell_type": "code",
   "execution_count": 3,
   "id": "2b67b85c-141c-474e-9a83-f75d385c001b",
   "metadata": {},
   "outputs": [],
   "source": [
    "def uppercase_titles():\n",
    "    titles = list(map(lambda b: b['title'].upper(),library))\n",
    "    print(\"book titles (UPPERCASE):\")\n",
    "    for title in titles:\n",
    "        print(\"_\",title)"
   ]
  },
  {
   "cell_type": "code",
   "execution_count": 25,
   "id": "c273d664-c806-4ab3-983d-23e4c78431ba",
   "metadata": {},
   "outputs": [],
   "source": [
    "def save_to_file(filename):\n",
    " try:\n",
    "    with open(filename,'w') as f:\n",
    "        for book in library:\n",
    "            line = f\"{book['title']},{book['author']},{book['genre']},{book['year']},{book['status']}\"\n",
    "            f.write(line)\n",
    "            print(f\"saved {len(library)} books to {filename}\")\n",
    " except Exception as e:\n",
    "     print(\"error saving file\",e)\n",
    "    "
   ]
  },
  {
   "cell_type": "code",
   "execution_count": 29,
   "id": "81e2ad7f-6c23-4d9e-8f83-678e60a21136",
   "metadata": {},
   "outputs": [],
   "source": [
    "def load_from_file(filename):\n",
    "    if not os.path.exists(filename):\n",
    "        print(\"file not found.starting with an empty library.\")\n",
    "        return \n",
    "        try:\n",
    "            with open(filename,'r') as f:\n",
    "                for line in f:\n",
    "                    title,author,genre,year,status = line.strip().split(',')\n",
    "                    add_book(title,author,genre,int(year),status)\n",
    "        except Exception as e:\n",
    "            print(\"error reading file:\",e)"
   ]
  },
  {
   "cell_type": "code",
   "execution_count": 33,
   "id": "e658229b-6713-4e16-b38a-fbc33f10e51f",
   "metadata": {},
   "outputs": [
    {
     "ename": "SyntaxError",
     "evalue": "invalid syntax (1250515028.py, line 1)",
     "output_type": "error",
     "traceback": [
      "\u001b[1;36m  Cell \u001b[1;32mIn[33], line 1\u001b[1;36m\u001b[0m\n\u001b[1;33m    if__name__ == \"__main__\":\u001b[0m\n\u001b[1;37m                            ^\u001b[0m\n\u001b[1;31mSyntaxError\u001b[0m\u001b[1;31m:\u001b[0m invalid syntax\n"
     ]
    }
   ],
   "source": [
    "\n",
    "        "
   ]
  },
  {
   "cell_type": "code",
   "execution_count": 38,
   "id": "08ddaf0f-eb40-4a9b-9b70-494fabca86a4",
   "metadata": {},
   "outputs": [
    {
     "name": "stdout",
     "output_type": "stream",
     "text": [
      "7\n",
      "hello\n",
      "__main__\n"
     ]
    }
   ],
   "source": [
    "def add(m,n):\n",
    "    return m+n\n",
    "print(add(5,2))\n",
    "print(\"hello\")\n",
    "print(__name__)"
   ]
  },
  {
   "cell_type": "code",
   "execution_count": null,
   "id": "386c02a3-dedd-4565-a64a-4af29afa690f",
   "metadata": {},
   "outputs": [],
   "source": [
    "\n"
   ]
  },
  {
   "cell_type": "code",
   "execution_count": null,
   "id": "4b7cdc6c-411f-4aa2-a3c0-cb430e8970fb",
   "metadata": {},
   "outputs": [],
   "source": []
  }
 ],
 "metadata": {
  "kernelspec": {
   "display_name": "Python 3 (ipykernel)",
   "language": "python",
   "name": "python3"
  },
  "language_info": {
   "codemirror_mode": {
    "name": "ipython",
    "version": 3
   },
   "file_extension": ".py",
   "mimetype": "text/x-python",
   "name": "python",
   "nbconvert_exporter": "python",
   "pygments_lexer": "ipython3",
   "version": "3.13.5"
  }
 },
 "nbformat": 4,
 "nbformat_minor": 5
}
